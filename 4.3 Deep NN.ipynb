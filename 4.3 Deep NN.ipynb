{
  "nbformat": 4,
  "nbformat_minor": 0,
  "metadata": {
    "colab": {
      "name": "4.3 Deep NN.ipynb",
      "version": "0.3.2",
      "provenance": [],
      "include_colab_link": true
    }
  },
  "cells": [
    {
      "cell_type": "markdown",
      "metadata": {
        "id": "view-in-github",
        "colab_type": "text"
      },
      "source": [
        "[View in Colaboratory](https://colab.research.google.com/github/battlerhythm/tensorflow/blob/master/4.3%20Deep%20NN.ipynb)"
      ]
    },
    {
      "metadata": {
        "id": "ibJUzu58ietb",
        "colab_type": "code",
        "colab": {}
      },
      "cell_type": "code",
      "source": [
        "import tensorflow as tf\n",
        "import numpy as np\n",
        "\n",
        "# [털, 날개]\n",
        "x_data = np.array([[0, 0], [1, 0], [1,1], [0, 0], [0, 0], [0, 1]])\n",
        "y_data = np.array([\n",
        "    [1, 0, 0], # 기타\n",
        "    [0, 1, 0], # 포유류\n",
        "    [0, 0, 1], # 조류\n",
        "    [1, 0, 0],\n",
        "    [1, 0, 0],\n",
        "    [0, 0, 1]\n",
        "])"
      ],
      "execution_count": 0,
      "outputs": []
    },
    {
      "metadata": {
        "id": "JyZKR3yqikR-",
        "colab_type": "code",
        "colab": {}
      },
      "cell_type": "code",
      "source": [
        "X = tf.placeholder(tf.float32)\n",
        "Y = tf.placeholder(tf.float32)\n",
        "\n",
        "# 은닉층(Hidden layer)는 하이퍼파라미터이므로 실험을 통해 가장 적절한 수를 정하면 됩니다.\n",
        "W1 = tf.Variable(tf.random_uniform([2, 10], -1., 1.))\n",
        "W2 = tf.Variable(tf.random_uniform([10, 3], -1., 1.))\n",
        "b1 = tf.Variable(tf.zeros([10]))\n",
        "b2 = tf.Variable(tf.zeros([3]))\n",
        "\n",
        "L1 = tf.add(tf.matmul(X, W1), b1)\n",
        "L1 = tf.nn.relu(L1)"
      ],
      "execution_count": 0,
      "outputs": []
    },
    {
      "metadata": {
        "id": "pzD7ldZSinEH",
        "colab_type": "code",
        "colab": {}
      },
      "cell_type": "code",
      "source": [
        "# 출력층\n",
        "model = tf.add(tf.matmul(L1, W2), b2)"
      ],
      "execution_count": 0,
      "outputs": []
    },
    {
      "metadata": {
        "id": "PJHZmcqEipYR",
        "colab_type": "code",
        "colab": {}
      },
      "cell_type": "code",
      "source": [
        "# Cost Function\n",
        "# 텐서플로에서 제공하는 교차 엔트로피 함수를 사용합니다.\n",
        "cost = tf.reduce_mean(tf.nn.softmax_cross_entropy_with_logits_v2(labels=Y, logits=model))\n",
        "\n",
        "# AdamOptimizer를 사용합니다.\n",
        "# GradientDescentOptimizer보다 보편적으로 성능이 좋다고 알려져 있습니다.\n",
        "optimizer = tf.train.AdamOptimizer(learning_rate=0.01)\n",
        "train_op = optimizer.minimize(cost)"
      ],
      "execution_count": 0,
      "outputs": []
    },
    {
      "metadata": {
        "id": "cuQNYQtcitl4",
        "colab_type": "code",
        "colab": {
          "base_uri": "https://localhost:8080/",
          "height": 187
        },
        "outputId": "1e65a6c8-5581-469c-d90a-57675accbeb5"
      },
      "cell_type": "code",
      "source": [
        "# 텐서플로의 세션을 초기화합니다.\n",
        "init = tf.global_variables_initializer()\n",
        "sess = tf.Session()\n",
        "sess.run(init)\n",
        "\n",
        "# 앞서 구성한 특징과 레이블 데이터를 이용해 학습을 100번 진행합니다.\n",
        "for step in range(100):\n",
        "    sess.run(train_op, feed_dict={X: x_data, Y: y_data})\n",
        "    \n",
        "    # 학습도중 10번에 한번씩 손실값을 출력해봅니다.\n",
        "    if (step + 1) % 10 == 0:\n",
        "        print(step + 1, sess.run(cost, feed_dict={X: x_data, Y: y_data}))"
      ],
      "execution_count": 5,
      "outputs": [
        {
          "output_type": "stream",
          "text": [
            "(10, 0.7920787)\n",
            "(20, 0.57695264)\n",
            "(30, 0.39431813)\n",
            "(40, 0.26245376)\n",
            "(50, 0.16978778)\n",
            "(60, 0.108376496)\n",
            "(70, 0.07128041)\n",
            "(80, 0.049239676)\n",
            "(90, 0.035706267)\n",
            "(100, 0.027235804)\n"
          ],
          "name": "stdout"
        }
      ]
    },
    {
      "metadata": {
        "id": "HdpiVoqrivuA",
        "colab_type": "code",
        "colab": {
          "base_uri": "https://localhost:8080/",
          "height": 51
        },
        "outputId": "8ec8bb70-194d-48bd-a964-1c58e1bf3d6a"
      },
      "cell_type": "code",
      "source": [
        "# 예측값인 model을 바로 출력하면 [0.2, 0.7, 0.1]과 같이 확률로 나오기 때문에,\n",
        "# 요소 중 가장 큰 값의 인덱스를 찾아주는 argmax 함수를 사용하여 레이블 값을 출력하도록 했습니다.\n",
        "prediction = tf.argmax(model, axis=1)\n",
        "target = tf.argmax(Y, axis=1)\n",
        "print('예측값: %s' % sess.run(prediction, feed_dict={X: x_data}))\n",
        "print('실제값: %s' % sess.run(target, feed_dict={Y: y_data}))"
      ],
      "execution_count": 6,
      "outputs": [
        {
          "output_type": "stream",
          "text": [
            "예측값: [0 1 2 0 0 2]\n",
            "실제값: [0 1 2 0 0 2]\n"
          ],
          "name": "stdout"
        }
      ]
    },
    {
      "metadata": {
        "id": "wZhU4hgUixbJ",
        "colab_type": "code",
        "colab": {
          "base_uri": "https://localhost:8080/",
          "height": 34
        },
        "outputId": "895f15c6-42bd-43eb-d611-0ab14c2722d5"
      },
      "cell_type": "code",
      "source": [
        "is_correct = tf.equal(prediction, target)\n",
        "accuracy = tf.reduce_mean(tf.cast(is_correct, tf.float32))\n",
        "print('정확도: %.2f' % sess.run(accuracy * 100, feed_dict={X: x_data, Y: y_data}))\n",
        "\n",
        "sess.close()"
      ],
      "execution_count": 7,
      "outputs": [
        {
          "output_type": "stream",
          "text": [
            "정확도: 100.00\n"
          ],
          "name": "stdout"
        }
      ]
    }
  ]
}