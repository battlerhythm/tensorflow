{
  "nbformat": 4,
  "nbformat_minor": 0,
  "metadata": {
    "colab": {
      "name": "4.2 Classification.ipynb",
      "version": "0.3.2",
      "provenance": [],
      "include_colab_link": true
    },
    "kernelspec": {
      "name": "python3",
      "display_name": "Python 3"
    },
    "accelerator": "GPU"
  },
  "cells": [
    {
      "cell_type": "markdown",
      "metadata": {
        "id": "view-in-github",
        "colab_type": "text"
      },
      "source": [
        "[View in Colaboratory](https://colab.research.google.com/github/battlerhythm/tensorflow/blob/master/4.2%20Classification.ipynb)"
      ]
    },
    {
      "metadata": {
        "id": "qmX1cxiXb06Z",
        "colab_type": "code",
        "colab": {}
      },
      "cell_type": "code",
      "source": [
        "import tensorflow as tf\n",
        "import numpy as np\n",
        "\n",
        "# [털, 날개]\n",
        "x_data = np.array([[0, 0], [1, 0], [1,1], [0, 0], [0, 0], [0, 1]])\n",
        "y_data = np.array([\n",
        "    [1, 0, 0], # 기타\n",
        "    [0, 1, 0], # 포유류\n",
        "    [0, 0, 1], # 조류\n",
        "    [1, 0, 0],\n",
        "    [1, 0, 0],\n",
        "    [0, 0, 1]\n",
        "])"
      ],
      "execution_count": 0,
      "outputs": []
    },
    {
      "metadata": {
        "id": "66VbhDQGb88E",
        "colab_type": "code",
        "colab": {}
      },
      "cell_type": "code",
      "source": [
        "X = tf.placeholder(tf.float32)\n",
        "Y = tf.placeholder(tf.float32)\n",
        "\n",
        "# 가중치변수 W는 [입력층(특징 수), 출력층(레이블 수)]의 구성인 [2, 3]으로 설정하고,\n",
        "# 편향변수 b는 레이블 수인 3개의 요소를 가진 변수로 설정합니다.\n",
        "W = tf.Variable(tf.random_uniform([2, 3], -1., 1.))\n",
        "b = tf.Variable(tf.zeros([3]))\n",
        "\n",
        "L = tf.add(tf.matmul(X, W), b)\n",
        "L = tf.nn.relu(L)"
      ],
      "execution_count": 0,
      "outputs": []
    },
    {
      "metadata": {
        "id": "WHlEikHtb_AZ",
        "colab_type": "code",
        "colab": {}
      },
      "cell_type": "code",
      "source": [
        "# softmax 함수는 배열 내의 결과값들을 전체의 합이 1이 되도록 만들어 줍니다.\n",
        "# 전체가 1이니 각각은 해당 결과의 확률로 해석할 수 있습니다.\n",
        "model = tf.nn.softmax(L)"
      ],
      "execution_count": 0,
      "outputs": []
    },
    {
      "metadata": {
        "id": "RH6VmqgIcB6w",
        "colab_type": "code",
        "colab": {}
      },
      "cell_type": "code",
      "source": [
        "# Cost Function\n",
        "# 원-핫 인코딩을 이용한 대부분의 모델에서 사용하는 교차 엔트로피 (Cross-Entropy)함수를 사용하겠습니다.\n",
        "cost = tf.reduce_mean(-tf.reduce_sum(Y * tf.log(model), axis=1))"
      ],
      "execution_count": 0,
      "outputs": []
    },
    {
      "metadata": {
        "id": "JTUNlCMecEKh",
        "colab_type": "code",
        "colab": {
          "base_uri": "https://localhost:8080/",
          "height": 187
        },
        "outputId": "3b30a2b6-78fe-4bfe-cb7e-a71b57c624ed"
      },
      "cell_type": "code",
      "source": [
        "# 기본적인 경사하강법으로 최적화합니다.\n",
        "optimizer = tf.train.GradientDescentOptimizer(learning_rate=0.01)\n",
        "train_op = optimizer.minimize(cost)\n",
        "\n",
        "# 텐서플로의 세션을 초기화합니다.\n",
        "init = tf.global_variables_initializer()\n",
        "sess = tf.Session()\n",
        "sess.run(init)\n",
        "\n",
        "# 앞서 구성한 특징과 레이블 데이터를 이용해 학습을 100번 진행합니다.\n",
        "for step in range(100):\n",
        "    sess.run(train_op, feed_dict={X: x_data, Y: y_data})\n",
        "    \n",
        "    # 학습도중 10번에 한번씩 손실값을 출력해봅니다.\n",
        "    if (step + 1) % 10 == 0:\n",
        "        print(step + 1, sess.run(cost, feed_dict={X: x_data, Y: y_data}))"
      ],
      "execution_count": 5,
      "outputs": [
        {
          "output_type": "stream",
          "text": [
            "10 1.0896837\n",
            "20 1.0872682\n",
            "30 1.0849658\n",
            "40 1.0826799\n",
            "50 1.0803764\n",
            "60 1.0775266\n",
            "70 1.0704395\n",
            "80 1.0635628\n",
            "90 1.0568889\n",
            "100 1.0504112\n"
          ],
          "name": "stdout"
        }
      ]
    },
    {
      "metadata": {
        "id": "fbWbUTxNcIsu",
        "colab_type": "code",
        "colab": {
          "base_uri": "https://localhost:8080/",
          "height": 51
        },
        "outputId": "60b1620d-4705-46d6-946b-0e37db093701"
      },
      "cell_type": "code",
      "source": [
        "# 예측값인 model을 바로 출력하면 [0.2, 0.7, 0.1]과 같이 확률로 나오기 때문에,\n",
        "# 요소 중 가장 큰 값의 인덱스를 찾아주는 argmax 함수를 사용하여 레이블 값을 출력하도록 했습니다.\n",
        "prediction = tf.argmax(model, axis=1)\n",
        "target = tf.argmax(Y, axis=1)\n",
        "print('예측값:', sess.run(prediction, feed_dict={X: x_data}))\n",
        "print('실제값:', sess.run(target, feed_dict={Y: y_data}))"
      ],
      "execution_count": 6,
      "outputs": [
        {
          "output_type": "stream",
          "text": [
            "예측값: [2 0 2 2 2 2]\n",
            "실제값: [0 1 2 0 0 2]\n"
          ],
          "name": "stdout"
        }
      ]
    },
    {
      "metadata": {
        "id": "FxtcbVqCcJee",
        "colab_type": "code",
        "colab": {
          "base_uri": "https://localhost:8080/",
          "height": 34
        },
        "outputId": "8342291d-305f-46b6-bc37-023de8f07bb1"
      },
      "cell_type": "code",
      "source": [
        "is_correct = tf.equal(prediction, target)\n",
        "accuracy = tf.reduce_mean(tf.cast(is_correct, tf.float32))\n",
        "print('정확도: %.2f' % sess.run(accuracy * 100, feed_dict={X: x_data, Y: y_data}))\n",
        "\n",
        "sess.close()"
      ],
      "execution_count": 7,
      "outputs": [
        {
          "output_type": "stream",
          "text": [
            "정확도: 33.33\n"
          ],
          "name": "stdout"
        }
      ]
    }
  ]
}