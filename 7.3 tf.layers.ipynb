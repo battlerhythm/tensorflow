{
  "nbformat": 4,
  "nbformat_minor": 0,
  "metadata": {
    "colab": {
      "name": "7.3 tf.layers.ipynb.ipynb",
      "version": "0.3.2",
      "provenance": [],
      "include_colab_link": true
    },
    "kernelspec": {
      "name": "python3",
      "display_name": "Python 3"
    },
    "accelerator": "GPU"
  },
  "cells": [
    {
      "cell_type": "markdown",
      "metadata": {
        "id": "view-in-github",
        "colab_type": "text"
      },
      "source": [
        "[View in Colaboratory](https://colab.research.google.com/github/battlerhythm/tensorflow/blob/master/7.3%20tf.layers.ipynb)"
      ]
    },
    {
      "metadata": {
        "id": "MyCBNoBWovvS",
        "colab_type": "code",
        "colab": {
          "base_uri": "https://localhost:8080/",
          "height": 85
        },
        "outputId": "ef93058d-2f8e-4026-e694-d73bbfcf1627"
      },
      "cell_type": "code",
      "source": [
        "import tensorflow as tf\n",
        "from tensorflow.examples.tutorials.mnist import input_data\n",
        "mnist = input_data.read_data_sets(\"./mnist/data/\",one_hot=True)"
      ],
      "execution_count": 4,
      "outputs": [
        {
          "output_type": "stream",
          "text": [
            "Extracting ./mnist/data/train-images-idx3-ubyte.gz\n",
            "Extracting ./mnist/data/train-labels-idx1-ubyte.gz\n",
            "Extracting ./mnist/data/t10k-images-idx3-ubyte.gz\n",
            "Extracting ./mnist/data/t10k-labels-idx1-ubyte.gz\n"
          ],
          "name": "stdout"
        }
      ]
    },
    {
      "metadata": {
        "id": "wWk2r3uQo7kP",
        "colab_type": "code",
        "colab": {}
      },
      "cell_type": "code",
      "source": [
        "# X의 첫번째 차원인 None은 입력 데이터의 개수입니다. 그리고 마지막 차원\n",
        "# 인 1은 특징의 개수로, MNIST데이터는 회색조 이미지라 채널에 색상이 한 개\n",
        "# 뿐이므로 1을 사용하였습니다. 그리고 출력값인 10개의 분류값으로 정의합니다.\n",
        "X = tf.placeholder(tf.float32, [None, 28, 28, 1])\n",
        "Y = tf.placeholder(tf.float32, [None, 10])\n",
        "is_training = tf.placeholder(tf.bool)\n",
        "\n",
        "L1 = tf.layers.conv2d(X, 32, [3, 3])\n",
        "L1 = tf.layers.max_pooling2d(L1, [2, 2], [2, 2])\n",
        "L1 = tf.layers.dropout(L1, 0.7, is_training)\n",
        "\n",
        "L2 = tf.layers.conv2d(L1, 64, [3, 3])\n",
        "L2 = tf.layers.max_pooling2d(L2, [2, 2], [2, 2])\n",
        "L2 = tf.layers.dropout(L2, 0.7, is_training)\n",
        "\n",
        "L3 = tf.contrib.layers.flatten(L2)\n",
        "L3 = tf.layers.dense(L3, 256, activation=tf.nn.relu)\n",
        "L3 = tf.layers.dropout(L3, 0.5, is_training)\n",
        "\n",
        "model = tf.layers.dense(L3, 10, activation=None)\n",
        "\n",
        "cost = tf.reduce_mean(tf.nn.softmax_cross_entropy_with_logits_v2(logits=model, labels=Y))\n",
        "optimizer = tf.train.AdamOptimizer(0.001).minimize(cost)\n",
        "#optimizer = tf.train.EMSPropOptimizer(0.001, 0.9).minimize(cost)"
      ],
      "execution_count": 0,
      "outputs": []
    },
    {
      "metadata": {
        "id": "Sm6RlpW9o-IZ",
        "colab_type": "code",
        "colab": {
          "base_uri": "https://localhost:8080/",
          "height": 306
        },
        "outputId": "097b7a90-942d-48e1-9e4a-72bf8e74b699"
      },
      "cell_type": "code",
      "source": [
        "init = tf.global_variables_initializer()\n",
        "sess = tf.Session()\n",
        "sess.run(init)\n",
        "\n",
        "batch_size = 100\n",
        "total_batch = int(mnist.train.num_examples / batch_size)\n",
        "\n",
        "for epoch in range(15):\n",
        "    total_cost = 0\n",
        "    \n",
        "    for i in range(total_batch):\n",
        "        batch_xs, batch_ys = mnist.train.next_batch(batch_size)\n",
        "        batch_xs = batch_xs.reshape(-1, 28, 28, 1)\n",
        "        \n",
        "        _, cost_val = sess.run([optimizer, cost], feed_dict={X: batch_xs, Y: batch_ys, is_training: True})\n",
        "        total_cost += cost_val\n",
        "        \n",
        "    print('Epoch:', '%04d' % (epoch + 1), 'Avg. cost =' '{:.3f}'.format(total_cost / total_batch))\n",
        "    \n",
        "print('최적화 완료!')\n",
        "\n",
        "is_correct = tf.equal(tf.argmax(model, 1), tf.argmax(Y, 1))\n",
        "accuracy = tf.reduce_mean(tf.cast(is_correct, tf.float32))\n",
        "\n",
        "print('정확도:', sess.run(accuracy, feed_dict={X: mnist.test.images.reshape(-1, 28, 28, 1),\n",
        "                                            Y: mnist.test.labels, is_training: False }))"
      ],
      "execution_count": 6,
      "outputs": [
        {
          "output_type": "stream",
          "text": [
            "Epoch: 0001 Avg. cost =0.176\n",
            "Epoch: 0002 Avg. cost =0.050\n",
            "Epoch: 0003 Avg. cost =0.032\n",
            "Epoch: 0004 Avg. cost =0.023\n",
            "Epoch: 0005 Avg. cost =0.016\n",
            "Epoch: 0006 Avg. cost =0.012\n",
            "Epoch: 0007 Avg. cost =0.012\n",
            "Epoch: 0008 Avg. cost =0.011\n",
            "Epoch: 0009 Avg. cost =0.009\n",
            "Epoch: 0010 Avg. cost =0.008\n",
            "Epoch: 0011 Avg. cost =0.004\n",
            "Epoch: 0012 Avg. cost =0.006\n",
            "Epoch: 0013 Avg. cost =0.008\n",
            "Epoch: 0014 Avg. cost =0.008\n",
            "Epoch: 0015 Avg. cost =0.002\n",
            "최적화 완료!\n",
            "정확도: 0.9893\n"
          ],
          "name": "stdout"
        }
      ]
    }
  ]
}