{
  "nbformat": 4,
  "nbformat_minor": 0,
  "metadata": {
    "colab": {
      "name": "6.2 Dropout.ipynb",
      "version": "0.3.2",
      "provenance": [],
      "collapsed_sections": [],
      "include_colab_link": true
    },
    "kernelspec": {
      "name": "python3",
      "display_name": "Python 3"
    },
    "accelerator": "GPU"
  },
  "cells": [
    {
      "cell_type": "markdown",
      "metadata": {
        "id": "view-in-github",
        "colab_type": "text"
      },
      "source": [
        "[View in Colaboratory](https://colab.research.google.com/github/battlerhythm/tensorflow/blob/master/6.2%20Dropout.ipynb)"
      ]
    },
    {
      "metadata": {
        "id": "DzYC5UFKyjex",
        "colab_type": "code",
        "colab": {
          "base_uri": "https://localhost:8080/",
          "height": 550
        },
        "outputId": "20291b6d-00bd-46af-cacb-192f6c0488e1"
      },
      "cell_type": "code",
      "source": [
        "import tensorflow as tf\n",
        "\n",
        "from tensorflow.examples.tutorials.mnist import input_data\n",
        "mnist = input_data.read_data_sets(\"./mnist/data/\", one_hot=True)"
      ],
      "execution_count": 1,
      "outputs": [
        {
          "output_type": "stream",
          "text": [
            "WARNING:tensorflow:From <ipython-input-1-bed9dddec7b6>:4: read_data_sets (from tensorflow.contrib.learn.python.learn.datasets.mnist) is deprecated and will be removed in a future version.\n",
            "Instructions for updating:\n",
            "Please use alternatives such as official/mnist/dataset.py from tensorflow/models.\n",
            "WARNING:tensorflow:From /usr/local/lib/python2.7/dist-packages/tensorflow/contrib/learn/python/learn/datasets/mnist.py:260: maybe_download (from tensorflow.contrib.learn.python.learn.datasets.base) is deprecated and will be removed in a future version.\n",
            "Instructions for updating:\n",
            "Please write your own downloading logic.\n",
            "WARNING:tensorflow:From /usr/local/lib/python2.7/dist-packages/tensorflow/contrib/learn/python/learn/datasets/base.py:252: wrapped_fn (from tensorflow.contrib.learn.python.learn.datasets.base) is deprecated and will be removed in a future version.\n",
            "Instructions for updating:\n",
            "Please use urllib or similar directly.\n",
            "Successfully downloaded train-images-idx3-ubyte.gz 9912422 bytes.\n",
            "WARNING:tensorflow:From /usr/local/lib/python2.7/dist-packages/tensorflow/contrib/learn/python/learn/datasets/mnist.py:262: extract_images (from tensorflow.contrib.learn.python.learn.datasets.mnist) is deprecated and will be removed in a future version.\n",
            "Instructions for updating:\n",
            "Please use tf.data to implement this functionality.\n",
            "Extracting ./mnist/data/train-images-idx3-ubyte.gz\n",
            "Successfully downloaded train-labels-idx1-ubyte.gz 28881 bytes.\n",
            "WARNING:tensorflow:From /usr/local/lib/python2.7/dist-packages/tensorflow/contrib/learn/python/learn/datasets/mnist.py:267: extract_labels (from tensorflow.contrib.learn.python.learn.datasets.mnist) is deprecated and will be removed in a future version.\n",
            "Instructions for updating:\n",
            "Please use tf.data to implement this functionality.\n",
            "Extracting ./mnist/data/train-labels-idx1-ubyte.gz\n",
            "WARNING:tensorflow:From /usr/local/lib/python2.7/dist-packages/tensorflow/contrib/learn/python/learn/datasets/mnist.py:110: dense_to_one_hot (from tensorflow.contrib.learn.python.learn.datasets.mnist) is deprecated and will be removed in a future version.\n",
            "Instructions for updating:\n",
            "Please use tf.one_hot on tensors.\n",
            "Successfully downloaded t10k-images-idx3-ubyte.gz 1648877 bytes.\n",
            "Extracting ./mnist/data/t10k-images-idx3-ubyte.gz\n",
            "Successfully downloaded t10k-labels-idx1-ubyte.gz 4542 bytes.\n",
            "Extracting ./mnist/data/t10k-labels-idx1-ubyte.gz\n",
            "WARNING:tensorflow:From /usr/local/lib/python2.7/dist-packages/tensorflow/contrib/learn/python/learn/datasets/mnist.py:290: __init__ (from tensorflow.contrib.learn.python.learn.datasets.mnist) is deprecated and will be removed in a future version.\n",
            "Instructions for updating:\n",
            "Please use alternatives such as official/mnist/dataset.py from tensorflow/models.\n"
          ],
          "name": "stdout"
        }
      ]
    },
    {
      "metadata": {
        "id": "ityJz7A9ytFj",
        "colab_type": "code",
        "colab": {}
      },
      "cell_type": "code",
      "source": [
        "# 과적합(Overfitting)으로 학습한 결과가 학습 데이터에는 매우 잘 맞지만,\n",
        "# 학습 데이터에만 너무 꼭 맞춰져 있어서 그 외의 데이터에는 잘 맞지 않는 상황인 경우\n",
        "# 드롭아웃(Dropout)을 통해 해결할 수 있습니다.\n",
        "# 드롭아웃의 원리는 매우 간단한데, 학습시 전체 신경망 중 일부만을 사용하도록 하는 것입니다.\n",
        "# 즉, 학습단계마다 일부 뉴런을 제거(사용하지 않도록)함으로써, 일부 특징이 특정 뉴런들에\n",
        "# 고정되는 것을 막아 가중치의 균형을 잡도록 하여 과적합을 방지합니다.\n",
        "# 다만, 학습 시 일부 뉴런을 학습시키지 않기 때문에 신경망이 충분히 학습되기까지의 시간은 조금 더 오래 걸리는 편입니다.\n",
        "\n",
        "X = tf.placeholder(tf.float32, [None, 784])\n",
        "Y = tf.placeholder(tf.float32, [None, 10])\n",
        "keep_prob = tf.placeholder(tf.float32)\n",
        "\n",
        "W1 = tf.Variable(tf.random_normal([784, 256], stddev=0.01))\n",
        "b1 = tf.Variable(tf.zeros([256]))\n",
        "L1 = tf.nn.relu(tf.matmul(X, W1) + b1)\n",
        "L1 = tf.nn.dropout(L1, keep_prob)\n",
        "\n",
        "W2 = tf.Variable(tf.random_normal([256, 256], stddev=0.01))\n",
        "b2 = tf.Variable(tf.zeros([256]))\n",
        "L2 = tf.nn.relu(tf.matmul(L1, W2) + b2)\n",
        "L2 = tf.nn.dropout(L2, keep_prob)\n",
        "\n",
        "W3 = tf.Variable(tf.random_normal([256, 10], stddev=0.01))\n",
        "b3 = tf.Variable(tf.zeros([10]))\n",
        "model = tf.matmul(L2, W3) + b3\n",
        "\n",
        "cost = tf.reduce_mean(tf.nn.softmax_cross_entropy_with_logits_v2(logits=model, labels=Y))\n",
        "optimizer = tf.train.AdamOptimizer(0.001).minimize(cost)\n",
        "# optimizer = tf.train.AdamOptimizer(learning_rate=0.01)\n",
        "# train_op = optimizer.minimize(cost)"
      ],
      "execution_count": 0,
      "outputs": []
    },
    {
      "metadata": {
        "id": "-JiDhKEbzBXt",
        "colab_type": "code",
        "colab": {
          "base_uri": "https://localhost:8080/",
          "height": 561
        },
        "outputId": "e56229a8-c094-48cc-bcb3-7bad8831fa5a"
      },
      "cell_type": "code",
      "source": [
        "init = tf.global_variables_initializer()\n",
        "sess = tf.Session()\n",
        "sess.run(init)\n",
        "\n",
        "# 학습데이터 전체를 한 바퀴 도는 것을 에포크(epoch)라고합니다.\n",
        "batch_size = 100\n",
        "total_batch = int(mnist.train.num_examples / batch_size)\n",
        "\n",
        "for epoch in range(30):\n",
        "    total_cost = 0\n",
        "    \n",
        "    for i in range(total_batch):\n",
        "        batch_xs, batch_ys = mnist.train.next_batch(batch_size)\n",
        "        \n",
        "        # 학습 코드: keep_prob를 0.8로 넣어줍니다.\n",
        "        _, cost_val = sess.run([optimizer, cost], feed_dict={X: batch_xs, Y: batch_ys, keep_prob: 0.8})\n",
        "        total_cost += cost_val\n",
        "        \n",
        "        \n",
        "    print('Epoch: {epoch:04d} Avg. cost = {cost:.3f}'.format(epoch=(epoch + 1), cost=(total_cost / total_batch)))\n",
        "    \n",
        "print('최적화 완료')\n",
        "\n",
        "is_correct = tf.equal(tf.argmax(model, 1), tf.argmax(Y, 1))\n",
        "accuracy = tf.reduce_mean(tf.cast(is_correct, tf.float32))\n",
        "\n",
        "# 예측코드: keep_prob를 1로 넣어줍니다.\n",
        "print('정확도: {0:.4f}'.format(sess.run(accuracy, feed_dict={X: mnist.test.images, Y: mnist.test.labels, keep_prob: 1.0})))"
      ],
      "execution_count": 9,
      "outputs": [
        {
          "output_type": "stream",
          "text": [
            "Epoch: 0001 Avg. cost = 0.438\n",
            "Epoch: 0002 Avg. cost = 0.166\n",
            "Epoch: 0003 Avg. cost = 0.114\n",
            "Epoch: 0004 Avg. cost = 0.090\n",
            "Epoch: 0005 Avg. cost = 0.072\n",
            "Epoch: 0006 Avg. cost = 0.058\n",
            "Epoch: 0007 Avg. cost = 0.052\n",
            "Epoch: 0008 Avg. cost = 0.047\n",
            "Epoch: 0009 Avg. cost = 0.040\n",
            "Epoch: 0010 Avg. cost = 0.037\n",
            "Epoch: 0011 Avg. cost = 0.034\n",
            "Epoch: 0012 Avg. cost = 0.032\n",
            "Epoch: 0013 Avg. cost = 0.027\n",
            "Epoch: 0014 Avg. cost = 0.026\n",
            "Epoch: 0015 Avg. cost = 0.026\n",
            "Epoch: 0016 Avg. cost = 0.023\n",
            "Epoch: 0017 Avg. cost = 0.025\n",
            "Epoch: 0018 Avg. cost = 0.023\n",
            "Epoch: 0019 Avg. cost = 0.019\n",
            "Epoch: 0020 Avg. cost = 0.021\n",
            "Epoch: 0021 Avg. cost = 0.019\n",
            "Epoch: 0022 Avg. cost = 0.018\n",
            "Epoch: 0023 Avg. cost = 0.018\n",
            "Epoch: 0024 Avg. cost = 0.018\n",
            "Epoch: 0025 Avg. cost = 0.021\n",
            "Epoch: 0026 Avg. cost = 0.016\n",
            "Epoch: 0027 Avg. cost = 0.016\n",
            "Epoch: 0028 Avg. cost = 0.014\n",
            "Epoch: 0029 Avg. cost = 0.016\n",
            "Epoch: 0030 Avg. cost = 0.016\n",
            "최적화 완료\n",
            "정확도: 0.9849\n"
          ],
          "name": "stdout"
        }
      ]
    }
  ]
}
