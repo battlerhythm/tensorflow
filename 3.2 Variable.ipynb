{
  "nbformat": 4,
  "nbformat_minor": 0,
  "metadata": {
    "colab": {
      "name": "3.2 Variable.ipynb",
      "version": "0.3.2",
      "provenance": [],
      "include_colab_link": true
    },
    "kernelspec": {
      "name": "python3",
      "display_name": "Python 3"
    },
    "accelerator": "GPU"
  },
  "cells": [
    {
      "cell_type": "markdown",
      "metadata": {
        "id": "view-in-github",
        "colab_type": "text"
      },
      "source": [
        "[View in Colaboratory](https://colab.research.google.com/github/battlerhythm/tensorflow/blob/master/3.2%20Variable.ipynb)"
      ]
    },
    {
      "metadata": {
        "id": "n5AcaDVdtoQp",
        "colab_type": "code",
        "colab": {
          "base_uri": "https://localhost:8080/",
          "height": 34
        },
        "outputId": "e307f324-cfbd-4e3f-d2d8-f3096d2d4825"
      },
      "cell_type": "code",
      "source": [
        "import tensorflow as tf\n",
        "\n",
        "# None은 크기가 정해지지 않았음을 의미합니다.\n",
        "X = tf.placeholder(tf.float32, [None, 3])\n",
        "print(X)"
      ],
      "execution_count": 1,
      "outputs": [
        {
          "output_type": "stream",
          "text": [
            "Tensor(\"Placeholder:0\", shape=(?, 3), dtype=float32)\n"
          ],
          "name": "stdout"
        }
      ]
    },
    {
      "metadata": {
        "id": "l4eTOJpEt0bh",
        "colab_type": "code",
        "colab": {}
      },
      "cell_type": "code",
      "source": [
        "# 앞에서 텐서 모양을 (?, 3)으로 정의했으므로, 두번째 차원은 요소를 3개씩 가지고 있어야 합니다.\n",
        "x_data = [[1, 2, 3], [4, 5, 6]]"
      ],
      "execution_count": 0,
      "outputs": []
    },
    {
      "metadata": {
        "id": "l53dP8cqt1wF",
        "colab_type": "code",
        "colab": {}
      },
      "cell_type": "code",
      "source": [
        "# 정규분포(Normal Distribution)의 무작위값으로 초기화\n",
        "W = tf.Variable(tf.random_normal([3, 2]))\n",
        "b = tf.Variable(tf.random_normal([2, 1]))\n",
        "\n",
        "# 원하는 값으로 초기화\n",
        "# W = tf.Variable([0.1, 0.1], [0.2, 0.2], [0.3, 0.3])"
      ],
      "execution_count": 0,
      "outputs": []
    },
    {
      "metadata": {
        "id": "T1KJ5LLZuALJ",
        "colab_type": "code",
        "colab": {}
      },
      "cell_type": "code",
      "source": [
        "# X와 W가 행렬이기 때문에 tf.matmul 함수를 사용합니다.\n",
        "# 행렬이 아닐경우 단순히 곱셈 연산자(*)나 tf.mul함수를 사용하면 됩니다.\n",
        "expr = tf.matmul(X, W) + b"
      ],
      "execution_count": 0,
      "outputs": []
    },
    {
      "metadata": {
        "id": "RlfjapXQuYk9",
        "colab_type": "code",
        "colab": {
          "base_uri": "https://localhost:8080/",
          "height": 272
        },
        "outputId": "a1a6e9e3-6946-4447-9cf1-e93248463594"
      },
      "cell_type": "code",
      "source": [
        "sess = tf.Session()\n",
        "\n",
        "# 앞에서 정의한 변수들을 초기화하는 함수입니다.\n",
        "# 기존에 학습한 값들을 가져와서 사용하는 것이 아닌 처음 실행하는 것이라면,\n",
        "# 연산을 실행하기 전에 반드시 이 함수를 이용해 변수들을 초기화해햐 합니다.\n",
        "sess.run(tf.global_variables_initializer())\n",
        "\n",
        "print(\"=== x_data ===\")\n",
        "print(x_data)\n",
        "print(\"=== W ===\")\n",
        "print(sess.run(W))\n",
        "print(\"=== matmul(X, W) ===\")\n",
        "print(sess.run(tf.matmul(X, W), feed_dict={X: x_data}))\n",
        "\n",
        "# 2 by 2 + 2 by 1 이 가능한 이유: Broadcasting semantics\n",
        "# https://www.tensorflow.org/performance/xla/broadcasting\n",
        "print(\"=== b ===\")\n",
        "print(sess.run(b))\n",
        "print(\"=== expr ===\")\n",
        "\n",
        "# feed_dict 매개변수는 그래프를 실행할 때 사용할 입력값을 지정합니다.\n",
        "# expr 수식에는 X, W, b를 사용했는데, 이중 X가 플레이스홀더라\n",
        "# X에 값을 넣어주지 않으면 계산에 사용할 값이 없으므로 에러가 납니다.\n",
        "# 따라서 미리 정의 해둔 x_data를 X의 값으로 넣어주었습니다.\n",
        "print(sess.run(expr, feed_dict={X: x_data}))\n",
        "\n",
        "sess.close()"
      ],
      "execution_count": 5,
      "outputs": [
        {
          "output_type": "stream",
          "text": [
            "=== x_data ===\n",
            "[[1, 2, 3], [4, 5, 6]]\n",
            "=== W ===\n",
            "[[-0.09047401  0.17826337]\n",
            " [ 0.7478093   1.3657159 ]\n",
            " [ 0.5915431  -0.48106012]]\n",
            "=== matmul(X, W) ===\n",
            "[[3.1797738 1.4665148]\n",
            " [6.926409  4.655272 ]]\n",
            "=== b ===\n",
            "[[-1.4073021]\n",
            " [-0.3767064]]\n",
            "=== expr ===\n",
            "[[1.7724717  0.05921268]\n",
            " [6.549702   4.2785654 ]]\n"
          ],
          "name": "stdout"
        }
      ]
    }
  ]
}