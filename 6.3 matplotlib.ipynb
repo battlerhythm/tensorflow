{
  "nbformat": 4,
  "nbformat_minor": 0,
  "metadata": {
    "colab": {
      "name": "6.3 matplotlib.ipynb",
      "version": "0.3.2",
      "provenance": [],
      "collapsed_sections": [],
      "include_colab_link": true
    },
    "kernelspec": {
      "name": "python3",
      "display_name": "Python 3"
    },
    "accelerator": "GPU"
  },
  "cells": [
    {
      "cell_type": "markdown",
      "metadata": {
        "id": "view-in-github",
        "colab_type": "text"
      },
      "source": [
        "[View in Colaboratory](https://colab.research.google.com/github/battlerhythm/tensorflow/blob/master/6.3%20matplotlib.ipynb)"
      ]
    },
    {
      "metadata": {
        "id": "tiFT9i8ZN0ln",
        "colab_type": "code",
        "colab": {
          "base_uri": "https://localhost:8080/",
          "height": 85
        },
        "outputId": "624abc72-eae3-4fae-958d-85dfb2b3f1a1"
      },
      "cell_type": "code",
      "source": [
        "import tensorflow as tf\n",
        "import numpy as np\n",
        "import matplotlib.pyplot as plt\n",
        "\n",
        "from tensorflow.examples.tutorials.mnist import input_data\n",
        "mnist = input_data.read_data_sets(\"./mnist/data/\", one_hot=True)"
      ],
      "execution_count": 5,
      "outputs": [
        {
          "output_type": "stream",
          "text": [
            "Extracting ./mnist/data/train-images-idx3-ubyte.gz\n",
            "Extracting ./mnist/data/train-labels-idx1-ubyte.gz\n",
            "Extracting ./mnist/data/t10k-images-idx3-ubyte.gz\n",
            "Extracting ./mnist/data/t10k-labels-idx1-ubyte.gz\n"
          ],
          "name": "stdout"
        }
      ]
    },
    {
      "metadata": {
        "id": "5lD1tTSmN8aG",
        "colab_type": "code",
        "colab": {}
      },
      "cell_type": "code",
      "source": [
        "# 배치정규화(Batch Normalization)\n",
        "# 이 기법은 과적합을 막아줄 뿐 아니라 학습 속도도 향상시켜주는 장점이 있습니다.\n",
        "# tf.nn.batch_normalization과 tf.layers.batch_normalization함수로 쉽게 적용할 수 있습니다.\n",
        "\n",
        "X = tf.placeholder(tf.float32, [None, 784])\n",
        "Y = tf.placeholder(tf.float32, [None, 10])\n",
        "\n",
        "W1 = tf.Variable(tf.random_normal([784, 256], stddev=0.01))\n",
        "b1 = tf.Variable(tf.zeros([256]))\n",
        "L1 = tf.nn.relu(tf.matmul(X, W1) + b1)\n",
        "L1 = tf.layers.batch_normalization(L1, training=True)\n",
        "\n",
        "W2 = tf.Variable(tf.random_normal([256, 256], stddev=0.01))\n",
        "b2 = tf.Variable(tf.zeros([256]))\n",
        "L2 = tf.nn.relu(tf.matmul(L1, W2) + b2)\n",
        "L2 = tf.layers.batch_normalization(L2, training=True)\n",
        "\n",
        "W3 = tf.Variable(tf.random_normal([256, 10], stddev=0.01))\n",
        "b3 = tf.Variable(tf.zeros([10]))\n",
        "model = tf.matmul(L2, W3) + b3\n",
        "\n",
        "cost = tf.reduce_mean(tf.nn.softmax_cross_entropy_with_logits_v2(logits=model, labels=Y))\n",
        "optimizer = tf.train.AdamOptimizer(0.001).minimize(cost)\n",
        "# optimizer = tf.train.AdamOptimizer(learning_rate=0.01)\n",
        "# train_op = optimizer.minimize(cost)"
      ],
      "execution_count": 0,
      "outputs": []
    },
    {
      "metadata": {
        "id": "dbSw3G2-N-rb",
        "colab_type": "code",
        "colab": {
          "base_uri": "https://localhost:8080/",
          "height": 561
        },
        "outputId": "5ba20a00-1960-4ea1-f997-fa88113a1dee"
      },
      "cell_type": "code",
      "source": [
        "init = tf.global_variables_initializer()\n",
        "sess = tf.Session()\n",
        "sess.run(init)\n",
        "\n",
        "# 학습데이터 전체를 한 바퀴 도는 것을 에포크(epoch)라고합니다.\n",
        "batch_size = 100\n",
        "total_batch = int(mnist.train.num_examples / batch_size)\n",
        "\n",
        "for epoch in range(30):\n",
        "    total_cost = 0\n",
        "    \n",
        "    for i in range(total_batch):\n",
        "        batch_xs, batch_ys = mnist.train.next_batch(batch_size)\n",
        "        \n",
        "        _, cost_val = sess.run([optimizer, cost], feed_dict={X: batch_xs, Y: batch_ys})\n",
        "        total_cost += cost_val\n",
        "        \n",
        "        \n",
        "    print('Epoch:', '%04d' % (epoch + 1), 'Avg. cost = ' '{:.3f}'.format(total_cost / total_batch))\n",
        "    \n",
        "print('최적화 완료')\n",
        "\n",
        "is_correct = tf.equal(tf.argmax(model, 1), tf.argmax(Y, 1))\n",
        "accuracy = tf.reduce_mean(tf.cast(is_correct, tf.float32))\n",
        "\n",
        "print('정확도:', sess.run(accuracy, feed_dict={X: mnist.test.images, Y: mnist.test.labels}))"
      ],
      "execution_count": 7,
      "outputs": [
        {
          "output_type": "stream",
          "text": [
            "Epoch: 0001 Avg. cost = 0.198\n",
            "Epoch: 0002 Avg. cost = 0.086\n",
            "Epoch: 0003 Avg. cost = 0.063\n",
            "Epoch: 0004 Avg. cost = 0.046\n",
            "Epoch: 0005 Avg. cost = 0.038\n",
            "Epoch: 0006 Avg. cost = 0.034\n",
            "Epoch: 0007 Avg. cost = 0.027\n",
            "Epoch: 0008 Avg. cost = 0.024\n",
            "Epoch: 0009 Avg. cost = 0.024\n",
            "Epoch: 0010 Avg. cost = 0.020\n",
            "Epoch: 0011 Avg. cost = 0.016\n",
            "Epoch: 0012 Avg. cost = 0.015\n",
            "Epoch: 0013 Avg. cost = 0.017\n",
            "Epoch: 0014 Avg. cost = 0.016\n",
            "Epoch: 0015 Avg. cost = 0.011\n",
            "Epoch: 0016 Avg. cost = 0.013\n",
            "Epoch: 0017 Avg. cost = 0.013\n",
            "Epoch: 0018 Avg. cost = 0.012\n",
            "Epoch: 0019 Avg. cost = 0.010\n",
            "Epoch: 0020 Avg. cost = 0.010\n",
            "Epoch: 0021 Avg. cost = 0.008\n",
            "Epoch: 0022 Avg. cost = 0.010\n",
            "Epoch: 0023 Avg. cost = 0.009\n",
            "Epoch: 0024 Avg. cost = 0.009\n",
            "Epoch: 0025 Avg. cost = 0.008\n",
            "Epoch: 0026 Avg. cost = 0.010\n",
            "Epoch: 0027 Avg. cost = 0.008\n",
            "Epoch: 0028 Avg. cost = 0.006\n",
            "Epoch: 0029 Avg. cost = 0.008\n",
            "Epoch: 0030 Avg. cost = 0.005\n",
            "최적화 완료\n",
            "정확도: 0.9811\n"
          ],
          "name": "stdout"
        }
      ]
    },
    {
      "metadata": {
        "id": "ZV1KuvrOOCTR",
        "colab_type": "code",
        "colab": {
          "base_uri": "https://localhost:8080/",
          "height": 507
        },
        "outputId": "5291137c-e27d-4d88-a392-86b9e61f1f9b"
      },
      "cell_type": "code",
      "source": [
        "labels = sess.run(model, feed_dict={X: mnist.test.images, Y:mnist.test.labels})\n",
        "print(labels)\n",
        "fig = plt.figure()\n",
        "\n",
        "for i in range(10):\n",
        "    # 2행 5열의 그래프를 만들고, i + 1번째에 숫자 이미지를 출력합니다.\n",
        "    subplot = fig.add_subplot(2, 5, i + 1)\n",
        "    # 이미지를 깨끗하게 출력하기 위해 x와 y눈금을 출력하지 않습니다.\n",
        "    subplot.set_xticks([])\n",
        "    subplot.set_yticks([])\n",
        "    # 출력한 이미지 위에 예측한 숫자를 출력합니다.\n",
        "    # np.argmax는 tf.argmax와 같은 기능의 함수입니다.\n",
        "    # 결과값인 labels의 i번째 요소가 원-핫 인코딩 형식으로 되어 있으므로,\n",
        "    # 해당 배열에서 가장 높은 값을 가진 인덱스를 예측한 숫자로 출력합니다.\n",
        "    subplot.set_title('%d' % np.argmax(labels[i]))\n",
        "    # 1차원 배열로 되어 있는 i번째 이미지 데이터를\n",
        "    # 28x28 형식의 2차원 배열로 변형하여 이미지 형태로 출력합니다.\n",
        "    # cmap 파라미터를 통해 이미지를 그레이스케일로 출력합니다.\n",
        "    subplot.imshow(mnist.test.images[i].reshape((28, 28)), cmap=plt.cm.gray_r)\n",
        "    \n",
        "plt.show()"
      ],
      "execution_count": 8,
      "outputs": [
        {
          "output_type": "stream",
          "text": [
            "[[ -4.2216115    0.62925786  -0.16966198 ...  17.113161    -4.323314\n",
            "    2.4512815 ]\n",
            " [  2.6626978    9.585197    30.514048   ...   1.0267733  -11.387364\n",
            "  -19.795773  ]\n",
            " [ -2.2794383   23.53069     -4.9613304  ...   0.14613022  -2.227444\n",
            "   -7.727265  ]\n",
            " ...\n",
            " [ -2.5667603    2.2755165  -12.181843   ...  -2.107722     2.9354773\n",
            "   -2.2463858 ]\n",
            " [ -9.852243   -10.360155   -20.362041   ... -10.343441     4.9027767\n",
            "  -16.833076  ]\n",
            " [ -3.5031884   -9.675509    -2.2985196  ... -10.626954    -2.748822\n",
            "    2.2970712 ]]\n"
          ],
          "name": "stdout"
        },
        {
          "output_type": "display_data",
          "data": {
            "image/png": "[encoded data removed]",
            "text/plain": [
              "<matplotlib.figure.Figure at 0x7f67a82e65c0>"
            ]
          },
          "metadata": {
            "tags": []
          }
        }
      ]
    }
  ]
}