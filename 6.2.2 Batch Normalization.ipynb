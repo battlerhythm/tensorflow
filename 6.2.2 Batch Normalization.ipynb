{
  "nbformat": 4,
  "nbformat_minor": 0,
  "metadata": {
    "colab": {
      "name": "6.2.2 Batch Normalization.ipynb",
      "version": "0.3.2",
      "provenance": [],
      "include_colab_link": true
    },
    "kernelspec": {
      "name": "python3",
      "display_name": "Python 3"
    },
    "accelerator": "GPU"
  },
  "cells": [
    {
      "cell_type": "markdown",
      "metadata": {
        "id": "view-in-github",
        "colab_type": "text"
      },
      "source": [
        "[View in Colaboratory](https://colab.research.google.com/github/battlerhythm/tensorflow/blob/master/6.2.2%20Batch%20Normalization.ipynb)"
      ]
    },
    {
      "metadata": {
        "id": "BgNHtJZUIP4Z",
        "colab_type": "code",
        "colab": {
          "base_uri": "https://localhost:8080/",
          "height": 85
        },
        "outputId": "2e2e59d0-845b-475a-a1fb-c4bb515cfa27"
      },
      "cell_type": "code",
      "source": [
        "import tensorflow as tf\n",
        "\n",
        "from tensorflow.examples.tutorials.mnist import input_data\n",
        "mnist = input_data.read_data_sets(\"./mnist/data/\", one_hot=True)"
      ],
      "execution_count": 6,
      "outputs": [
        {
          "output_type": "stream",
          "text": [
            "Extracting ./mnist/data/train-images-idx3-ubyte.gz\n",
            "Extracting ./mnist/data/train-labels-idx1-ubyte.gz\n",
            "Extracting ./mnist/data/t10k-images-idx3-ubyte.gz\n",
            "Extracting ./mnist/data/t10k-labels-idx1-ubyte.gz\n"
          ],
          "name": "stdout"
        }
      ]
    },
    {
      "metadata": {
        "id": "_0cVJjODInpS",
        "colab_type": "code",
        "colab": {}
      },
      "cell_type": "code",
      "source": [
        "# 배치정규화(Batch Normalization)\n",
        "# 이 기법은 과적합을 막아줄 뿐 아니라 학습 속도도 향상시켜주는 장점이 있습니다.\n",
        "# tf.nn.batch_normalization과 tf.layers.batch_normalization함수로 쉽게 적용할 수 있습니다.\n",
        "\n",
        "X = tf.placeholder(tf.float32, [None, 784])\n",
        "Y = tf.placeholder(tf.float32, [None, 10])\n",
        "\n",
        "W1 = tf.Variable(tf.random_normal([784, 256], stddev=0.01))\n",
        "b1 = tf.Variable(tf.zeros([256]))\n",
        "L1 = tf.nn.relu(tf.matmul(X, W1) + b1)\n",
        "L1 = tf.layers.batch_normalization(L1, training=True)\n",
        "\n",
        "W2 = tf.Variable(tf.random_normal([256, 256], stddev=0.01))\n",
        "b2 = tf.Variable(tf.zeros([256]))\n",
        "L2 = tf.nn.relu(tf.matmul(L1, W2) + b2)\n",
        "L2 = tf.layers.batch_normalization(L2, training=True)\n",
        "\n",
        "W3 = tf.Variable(tf.random_normal([256, 10], stddev=0.01))\n",
        "b3 = tf.Variable(tf.zeros([10]))\n",
        "model = tf.matmul(L2, W3) + b3\n",
        "\n",
        "cost = tf.reduce_mean(tf.nn.softmax_cross_entropy_with_logits_v2(logits=model, labels=Y))\n",
        "optimizer = tf.train.AdamOptimizer(0.001).minimize(cost)\n",
        "# optimizer = tf.train.AdamOptimizer(learning_rate=0.01)\n",
        "# train_op = optimizer.minimize(cost)"
      ],
      "execution_count": 0,
      "outputs": []
    },
    {
      "metadata": {
        "id": "4apI8kyIIrkh",
        "colab_type": "code",
        "colab": {
          "base_uri": "https://localhost:8080/",
          "height": 561
        },
        "outputId": "90c102b9-687c-403f-ba60-3dc1e4bf91e4"
      },
      "cell_type": "code",
      "source": [
        "init = tf.global_variables_initializer()\n",
        "sess = tf.Session()\n",
        "sess.run(init)\n",
        "\n",
        "# 학습데이터 전체를 한 바퀴 도는 것을 에포크(epoch)라고합니다.\n",
        "batch_size = 100\n",
        "total_batch = int(mnist.train.num_examples / batch_size)\n",
        "\n",
        "for epoch in range(30):\n",
        "    total_cost = 0\n",
        "    \n",
        "    for i in range(total_batch):\n",
        "        batch_xs, batch_ys = mnist.train.next_batch(batch_size)\n",
        "        \n",
        "        _, cost_val = sess.run([optimizer, cost], feed_dict={X: batch_xs, Y: batch_ys})\n",
        "        total_cost += cost_val\n",
        "        \n",
        "        \n",
        "    print('Epoch:', '%04d' % (epoch + 1), 'Avg. cost = ' '{:.3f}'.format(total_cost / total_batch))\n",
        "    \n",
        "print('최적화 완료')\n",
        "\n",
        "is_correct = tf.equal(tf.argmax(model, 1), tf.argmax(Y, 1))\n",
        "accuracy = tf.reduce_mean(tf.cast(is_correct, tf.float32))\n",
        "\n",
        "print('정확도:', sess.run(accuracy, feed_dict={X: mnist.test.images, Y: mnist.test.labels}))"
      ],
      "execution_count": 8,
      "outputs": [
        {
          "output_type": "stream",
          "text": [
            "Epoch: 0001 Avg. cost = 0.198\n",
            "Epoch: 0002 Avg. cost = 0.087\n",
            "Epoch: 0003 Avg. cost = 0.059\n",
            "Epoch: 0004 Avg. cost = 0.048\n",
            "Epoch: 0005 Avg. cost = 0.040\n",
            "Epoch: 0006 Avg. cost = 0.033\n",
            "Epoch: 0007 Avg. cost = 0.029\n",
            "Epoch: 0008 Avg. cost = 0.025\n",
            "Epoch: 0009 Avg. cost = 0.025\n",
            "Epoch: 0010 Avg. cost = 0.019\n",
            "Epoch: 0011 Avg. cost = 0.019\n",
            "Epoch: 0012 Avg. cost = 0.016\n",
            "Epoch: 0013 Avg. cost = 0.015\n",
            "Epoch: 0014 Avg. cost = 0.014\n",
            "Epoch: 0015 Avg. cost = 0.012\n",
            "Epoch: 0016 Avg. cost = 0.013\n",
            "Epoch: 0017 Avg. cost = 0.010\n",
            "Epoch: 0018 Avg. cost = 0.009\n",
            "Epoch: 0019 Avg. cost = 0.013\n",
            "Epoch: 0020 Avg. cost = 0.011\n",
            "Epoch: 0021 Avg. cost = 0.009\n",
            "Epoch: 0022 Avg. cost = 0.009\n",
            "Epoch: 0023 Avg. cost = 0.008\n",
            "Epoch: 0024 Avg. cost = 0.008\n",
            "Epoch: 0025 Avg. cost = 0.007\n",
            "Epoch: 0026 Avg. cost = 0.007\n",
            "Epoch: 0027 Avg. cost = 0.007\n",
            "Epoch: 0028 Avg. cost = 0.009\n",
            "Epoch: 0029 Avg. cost = 0.007\n",
            "Epoch: 0030 Avg. cost = 0.006\n",
            "최적화 완료\n",
            "정확도: 0.9844\n"
          ],
          "name": "stdout"
        }
      ]
    }
  ]
}